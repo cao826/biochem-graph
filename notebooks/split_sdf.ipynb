{
 "cells": [
  {
   "cell_type": "markdown",
   "source": [
    "This file unpack and split the SDF files downloaded from PubChem FTP server."
   ],
   "metadata": {
    "collapsed": false
   }
  },
  {
   "cell_type": "code",
   "execution_count": 1,
   "metadata": {
    "collapsed": true,
    "pycharm": {
     "is_executing": false
    }
   },
   "outputs": [
    {
     "name": "stderr",
     "text": [
      "RDKit WARNING: [12:09:38] Enabling RDKit 2019.09.3 jupyter extensions\n"
     ],
     "output_type": "stream"
    }
   ],
   "source": [
    "import gzip\n",
    "import shutil\n",
    "from glob import glob\n",
    "from os.path import abspath, basename, join\n",
    "from rdkit.Chem import Mol, SDMolSupplier, SDWriter, MolToSmiles\n",
    "\n",
    "from rdkit import RDLogger\n",
    "RDLogger.logger().setLevel(RDLogger.CRITICAL)"
   ]
  },
  {
   "cell_type": "code",
   "execution_count": 2,
   "outputs": [
    {
     "name": "stdout",
     "text": [
      "Raw data directory: /Users/xduan7/projects/biochem-graph/data/raw\n",
      "Interim data directory: /Users/xduan7/projects/biochem-graph/data/interim\n",
      "Processed data directory: /Users/xduan7/projects/biochem-graph/bcgraph/data\n"
     ],
     "output_type": "stream"
    }
   ],
   "source": [
    "RAW_DATA_DIR = abspath('../data/raw')\n",
    "INTERIM_DATA_DIR = abspath('../data/interim')\n",
    "PROCESSED_DATA_DIR = abspath('../bcgraph/data')\n",
    "\n",
    "print(f'Raw data directory: {RAW_DATA_DIR}')\n",
    "print(f'Interim data directory: {INTERIM_DATA_DIR}')\n",
    "print(f'Processed data directory: {PROCESSED_DATA_DIR}')"
   ],
   "metadata": {
    "collapsed": false,
    "pycharm": {
     "name": "#%%\n",
     "is_executing": false
    }
   }
  },
  {
   "cell_type": "code",
   "execution_count": 3,
   "outputs": [],
   "source": [
    "# unpack the .gz files into interim data directory\n",
    "sdf_file_paths = []\n",
    "for _sdf_gz_file_path in glob(join(RAW_DATA_DIR, '*.sdf.gz')):\n",
    "    \n",
    "    _sdf_file_path = join(\n",
    "        INTERIM_DATA_DIR, \n",
    "        basename(_sdf_gz_file_path).replace('.gz', ''),\n",
    "    )\n",
    "    \n",
    "    with gzip.open(_sdf_gz_file_path, 'rb') as _f_in:\n",
    "        with open(_sdf_file_path, 'wb') as _f_out:\n",
    "            shutil.copyfileobj(_f_in, _f_out)\n",
    "    \n",
    "    sdf_file_paths.append(_sdf_file_path)"
   ],
   "metadata": {
    "collapsed": false,
    "pycharm": {
     "name": "#%%\n",
     "is_executing": false
    }
   }
  },
  {
   "cell_type": "code",
   "execution_count": 4,
   "outputs": [],
   "source": [
    "# split and save molecules into SDF files\n",
    "_mol: Mol\n",
    "for _sdf_file_path in sdf_file_paths:\n",
    "    for _mol in SDMolSupplier(_sdf_file_path):\n",
    "        _cid = _mol.GetProp('PUBCHEM_COMPOUND_CID')\n",
    "        _sd_writer = SDWriter(join(PROCESSED_DATA_DIR, f'{_cid}.sdf'))\n",
    "        _sd_writer.write(_mol)\n",
    "        _sd_writer.close()"
   ],
   "metadata": {
    "collapsed": false,
    "pycharm": {
     "name": "#%%\n",
     "is_executing": false
    }
   }
  },
  {
   "cell_type": "code",
   "execution_count": 5,
   "outputs": [],
   "source": [
    "# test the saved SDF files\n",
    "for _sdf_file_path in glob(join(PROCESSED_DATA_DIR, '*.sdf')):\n",
    "    for _mol in SDMolSupplier(_sdf_file_path):\n",
    "        assert _mol is not None\n",
    "        # print(MolToSmiles(_mol))"
   ],
   "metadata": {
    "collapsed": false,
    "pycharm": {
     "name": "#%%\n",
     "is_executing": false
    }
   }
  }
 ],
 "metadata": {
  "kernelspec": {
   "display_name": "Python 3",
   "language": "python",
   "name": "python3"
  },
  "language_info": {
   "codemirror_mode": {
    "name": "ipython",
    "version": 2
   },
   "file_extension": ".py",
   "mimetype": "text/x-python",
   "name": "python",
   "nbconvert_exporter": "python",
   "pygments_lexer": "ipython2",
   "version": "2.7.6"
  },
  "pycharm": {
   "stem_cell": {
    "cell_type": "raw",
    "source": [],
    "metadata": {
     "collapsed": false
    }
   }
  }
 },
 "nbformat": 4,
 "nbformat_minor": 0
}