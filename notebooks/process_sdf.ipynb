{
 "cells": [
  {
   "cell_type": "markdown",
   "source": [
    "This file unpack and split the SDF files downloaded from PubChem FTP server."
   ],
   "metadata": {
    "collapsed": false
   }
  },
  {
   "cell_type": "code",
   "execution_count": 1,
   "metadata": {
    "collapsed": true,
    "pycharm": {
     "is_executing": false
    }
   },
   "outputs": [
    {
     "name": "stderr",
     "text": [
      "RDKit WARNING: [09:39:35] Enabling RDKit 2019.09.3 jupyter extensions\n"
     ],
     "output_type": "stream"
    }
   ],
   "source": [
    "import gzip\n",
    "import shutil\n",
    "from glob import glob\n",
    "from os.path import abspath, basename, join\n",
    "from rdkit.Chem import Mol, SDMolSupplier, SDWriter, MolToSmiles\n",
    "\n",
    "from rdkit import RDLogger\n",
    "RDLogger.logger().setLevel(RDLogger.CRITICAL)"
   ]
  },
  {
   "cell_type": "code",
   "execution_count": 2,
   "outputs": [
    {
     "name": "stdout",
     "text": [
      "Raw data directory: /Users/xduan7/projects/biochem-graph/data/raw\n",
      "Interim data directory: /Users/xduan7/projects/biochem-graph/data/interim\n",
      "Processed data directory: /Users/xduan7/projects/biochem-graph/bcgraph/faker/data\n",
      "Processed SDF file path: /Users/xduan7/projects/biochem-graph/bcgraph/faker/data/pubchem_mols.sdf\n"
     ],
     "output_type": "stream"
    }
   ],
   "source": [
    "NUM_MOLS = 4096\n",
    "\n",
    "RAW_DATA_DIR = abspath('../data/raw')\n",
    "INTERIM_DATA_DIR = abspath('../data/interim')\n",
    "PROCESSED_DATA_DIR = abspath('../bcgraph/faker/data')\n",
    "PROCESSED_SDF_PATH = join(PROCESSED_DATA_DIR, f'pubchem_mols.sdf')\n",
    "\n",
    "print(f'Raw data directory: {RAW_DATA_DIR}')\n",
    "print(f'Interim data directory: {INTERIM_DATA_DIR}')\n",
    "print(f'Processed data directory: {PROCESSED_DATA_DIR}')\n",
    "print(f'Processed SDF file path: {PROCESSED_SDF_PATH}')"
   ],
   "metadata": {
    "collapsed": false,
    "pycharm": {
     "name": "#%%\n",
     "is_executing": false
    }
   }
  },
  {
   "cell_type": "code",
   "execution_count": 3,
   "outputs": [],
   "source": [
    "# unpack the .gz files into interim data directory\n",
    "sdf_file_paths = []\n",
    "for _sdf_gz_file_path in glob(join(RAW_DATA_DIR, '*.sdf.gz')):\n",
    "    \n",
    "    _sdf_file_path = join(\n",
    "        INTERIM_DATA_DIR, \n",
    "        basename(_sdf_gz_file_path).replace('.gz', ''),\n",
    "    )\n",
    "    \n",
    "    with gzip.open(_sdf_gz_file_path, 'rb') as _f_in:\n",
    "        with open(_sdf_file_path, 'wb') as _f_out:\n",
    "            shutil.copyfileobj(_f_in, _f_out)\n",
    "    \n",
    "    sdf_file_paths.append(_sdf_file_path)"
   ],
   "metadata": {
    "collapsed": false,
    "pycharm": {
     "name": "#%%\n",
     "is_executing": false
    }
   }
  },
  {
   "cell_type": "code",
   "execution_count": 4,
   "outputs": [],
   "source": [
    "# save molecules into SDF files\n",
    "_sd_writer = SDWriter(PROCESSED_SDF_PATH)\n",
    "_included_cids = set()\n",
    "_mol: Mol\n",
    "for _sdf_file_path in sdf_file_paths:\n",
    "    \n",
    "    if len(_included_cids) >= NUM_MOLS:\n",
    "        break\n",
    "    \n",
    "    for _mol in SDMolSupplier(_sdf_file_path):\n",
    "        \n",
    "        _cid = _mol.GetProp('PUBCHEM_COMPOUND_CID')\n",
    "        for _p in _mol.GetPropsAsDict().keys():\n",
    "            if _p != 'PUBCHEM_COMPOUND_CID':\n",
    "                _mol.ClearProp(_p)\n",
    "        \n",
    "        if _cid not in _included_cids:\n",
    "            _included_cids.add(_cid)\n",
    "            _sd_writer.write(_mol)\n",
    "            if len(_included_cids) >= NUM_MOLS:\n",
    "                break\n",
    "\n",
    "_sd_writer.close()"
   ],
   "metadata": {
    "collapsed": false,
    "pycharm": {
     "name": "#%%\n",
     "is_executing": false
    }
   }
  },
  {
   "cell_type": "code",
   "execution_count": 5,
   "outputs": [],
   "source": [
    "# test the saved SDF files\n",
    "_sd_supp = SDMolSupplier(PROCESSED_SDF_PATH)\n",
    "assert len(_sd_supp) == NUM_MOLS\n",
    "for _mol in SDMolSupplier(PROCESSED_SDF_PATH):\n",
    "    assert _mol is not None\n",
    "    # print(MolToSmiles(_mol))\n"
   ],
   "metadata": {
    "collapsed": false,
    "pycharm": {
     "name": "#%%\n",
     "is_executing": false
    }
   }
  }
 ],
 "metadata": {
  "kernelspec": {
   "display_name": "Python 3",
   "language": "python",
   "name": "python3"
  },
  "language_info": {
   "codemirror_mode": {
    "name": "ipython",
    "version": 2
   },
   "file_extension": ".py",
   "mimetype": "text/x-python",
   "name": "python",
   "nbconvert_exporter": "python",
   "pygments_lexer": "ipython2",
   "version": "2.7.6"
  },
  "pycharm": {
   "stem_cell": {
    "cell_type": "raw",
    "source": [],
    "metadata": {
     "collapsed": false
    }
   }
  }
 },
 "nbformat": 4,
 "nbformat_minor": 0
}